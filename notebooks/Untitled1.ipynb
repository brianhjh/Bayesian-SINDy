{
 "cells": [
  {
   "cell_type": "code",
   "execution_count": null,
   "id": "8f0f6d1a-f8be-4c46-a98e-63ba074792ff",
   "metadata": {},
   "outputs": [],
   "source": []
  }
 ],
 "metadata": {
  "kernelspec": {
   "display_name": "",
   "name": ""
  },
  "language_info": {
   "name": ""
  }
 },
 "nbformat": 4,
 "nbformat_minor": 5
}
