{
 "cells": [
  {
   "cell_type": "code",
   "execution_count": null,
   "id": "7debee60-0850-4e6e-8595-e760ec53ac97",
   "metadata": {},
   "outputs": [],
   "source": []
  }
 ],
 "metadata": {
  "kernelspec": {
   "display_name": "",
   "name": ""
  },
  "language_info": {
   "name": ""
  }
 },
 "nbformat": 4,
 "nbformat_minor": 5
}
