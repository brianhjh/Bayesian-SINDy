{
 "cells": [
  {
   "cell_type": "code",
   "execution_count": null,
   "id": "cf62c244-6c1f-4fa1-8467-e37bf06c0e92",
   "metadata": {},
   "outputs": [],
   "source": [
    "# Import Library \n",
    "\n",
    "import numpy as np\n",
    "import matplotlib.pyplot as plt"
   ]
  },
  {
   "cell_type": "code",
   "execution_count": null,
   "id": "458d21e4-1b02-45a9-9f83-1e9ecdb8aa12",
   "metadata": {},
   "outputs": [],
   "source": [
    "# Functions Library\n",
    "\n",
    "# Evaluating function using values from Coefficient array (Setting)\n",
    "def eval_poly(x, coeffs):\n",
    "    # coeffs[k] multiplies x^k\n",
    "    powers = np.vstack([x**k for k in range(len(coeffs))])  # shape (K, N)\n",
    "    return (coeffs[:, None] * powers).sum(axis=0)\n",
    "\n",
    "# Formatting + Threshholding Condition\n",
    "def format_poly(coeffs, var=\"x\", thresh=1e-10):\n",
    "    terms = []\n",
    "    for k, c in enumerate(coeffs):\n",
    "        if abs(c) < thresh:\n",
    "            continue\n",
    "        if k == 0:\n",
    "            terms.append(f\"{c:+.5g}\")\n",
    "        elif k == 1:\n",
    "            terms.append(f\"{c:+.5g}·{var}\")\n",
    "        else:\n",
    "            terms.append(f\"{c:+.5g}·{var}^{k}\")\n",
    "    return \" \".join(terms) if terms else \"0\"\n",
    "\n",
    "def compute_aic_bic(y_true, y_pred, num_params):\n",
    "    n = len(y_true)\n",
    "    rss = np.sum((y_true - y_pred)**2)\n",
    "    aic = 2*num_params + n*np.log(rss/n)\n",
    "    bic = num_params*np.log(n) + n*np.log(rss/n)\n",
    "    return aic, bic\n",
    "    "
   ]
  },
  {
   "cell_type": "code",
   "execution_count": null,
   "id": "70341cad-0678-4bfa-8b1f-0551dc4c1a5d",
   "metadata": {},
   "outputs": [],
   "source": [
    "# Setting for the model\n",
    "\n",
    "N = 200                    # number of samples\n",
    "X_MIN, X_MAX = -1.0, 1.0   # sampling range for x\n",
    "DEGREE = 10                # full polynomial library up to power DEGREE\n",
    "NOISE_FRAC = 0.05          # noise level as fraction of std(y_true)\n",
    "TRUE_COEFFS = np.array([3.0, 0.0, -3.0, 0.0, 0.0, 1.0]) # tested model"
   ]
  },
  {
   "cell_type": "code",
   "execution_count": null,
   "id": "ea977115-e611-4238-a6fc-f48b71e42554",
   "metadata": {},
   "outputs": [],
   "source": [
    "# generating coordinates \n",
    "\n",
    "x = np.linspace(X_MIN, X_MAX, N)\n",
    "y_true = eval_poly(x, TRUE_COEFFS)\n",
    "\n",
    "# Add Gaussian noise to y\n",
    "\n",
    "y = y_true + NOISE_FRAC * np.std(y_true) * np.random.randn(N) #normaly distributed error"
   ]
  },
  {
   "cell_type": "code",
   "execution_count": null,
   "id": "b193548d-ec1d-4fff-bfc2-5c0979530f0a",
   "metadata": {},
   "outputs": [],
   "source": [
    "# Variables in Theta (Library)\n",
    "\n",
    "Theta = np.vander(x, N=DEGREE+1, increasing=True) # shape (N, DEGREE+1)"
   ]
  },
  {
   "cell_type": "code",
   "execution_count": null,
   "id": "d0448a4c-3208-4fb2-9d72-6aad6bf866cc",
   "metadata": {},
   "outputs": [],
   "source": [
    "# OLS to minimize error\n",
    "\n",
    "w_hat, residuals, rank, s = np.linalg.lstsq(Theta, y, rcond=None)"
   ]
  },
  {
   "cell_type": "code",
   "execution_count": null,
   "id": "a5403812-e3b6-4863-8a9a-017e0e24e875",
   "metadata": {},
   "outputs": [],
   "source": [
    "# Computing y_hat = Theta(Library)*Xi(coefficients)_hat (since )\n",
    "\n",
    "y_hat = Theta @ w_hat"
   ]
  },
  {
   "cell_type": "code",
   "execution_count": null,
   "id": "6a35871c-aee0-46a9-b369-201e3329ffe4",
   "metadata": {},
   "outputs": [],
   "source": [
    "# printing the discovered polynomial \n",
    "\n",
    "print(\"True polynomial:      y(x) =\", format_poly(TRUE_COEFFS))\n",
    "print(\"Estimated polynomial: y(x) =\", format_poly(w_hat))"
   ]
  },
  {
   "cell_type": "code",
   "execution_count": null,
   "id": "440b3afc-ee6a-4ae7-bf90-52c309b6c34f",
   "metadata": {},
   "outputs": [],
   "source": [
    "# OLS Results \n",
    "# Figure 1 - OLS fit curve \n",
    "\n",
    "plt.figure(figsize=(8.5, 4))\n",
    "plt.scatter(x, y, s=12, alpha=0.5, label=\"data\")\n",
    "plt.plot(x, y_true, \"k--\", label=\"true f(x)\")\n",
    "plt.plot(x, y_hat, label=\"OLS fit\", linewidth=2)\n",
    "plt.xlabel(\"x\"); plt.ylabel(\"y\")\n",
    "plt.title(\"OLS fitting\")\n",
    "plt.legend()\n",
    "plt.tight_layout()\n",
    "plt.show()\n"
   ]
  },
  {
   "cell_type": "code",
   "execution_count": null,
   "id": "6fdb4a19-09df-471a-b884-c7226e5da7fa",
   "metadata": {},
   "outputs": [],
   "source": [
    "# Ridge Regularization (L2)\n",
    "\n",
    "\n",
    "lambdas = np.logspace(-1, 1, 30)\n",
    "aic_list, bic_list = [], []\n",
    "\n",
    "for lam in lambdas:\n",
    "    w_r = np.linalg.solve(Theta.T@Theta + lam*np.eye(Theta.shape[1]), Theta.T@y)\n",
    "    y_r = Theta @ w_r\n",
    "    k = np.sum(np.abs(w_r) > 1e-8)          # number of active coefficients\n",
    "    aic, bic = compute_aic_bic(y_true, y_r, k)\n",
    "    aic_list.append(aic)\n",
    "    bic_list.append(bic)\n",
    "\n",
    "lam_aic = lambdas[np.argmin(aic_list)]\n",
    "lam_bic = lambdas[np.argmin(bic_list)]\n",
    "\n",
    "print(\"Opt_lam_aic: \", lam_aic)\n",
    "print(\"Opt_lam_bic: \", lam_bic)\n",
    "\n",
    "lambda_ridge = lam_aic        #Tuning parameter \n",
    "\n",
    "# Ridge Regression (From derived w_MAP)\n",
    "\n",
    "I = np.eye(Theta.shape[1])\n",
    "w_ridge = np.linalg.solve(Theta.T @ Theta + lambda_ridge * I, Theta.T @ y)\n",
    "y_ridge = Theta @ w_ridge\n",
    "\n",
    "print(\"Ridge polynomial: y(x) =\", format_poly(w_ridge))\n"
   ]
  },
  {
   "cell_type": "code",
   "execution_count": null,
   "id": "4b675f77-72c0-4525-876d-9655b8d50446",
   "metadata": {},
   "outputs": [],
   "source": [
    "# Figure 2 - Ridge Regression Fit curve \n",
    "\n",
    "plt.figure(figsize=(8.5, 4))\n",
    "plt.scatter(x, y, s=12, alpha=0.5, label=\"data\")\n",
    "plt.plot(x, y_true, \"k--\", label=\"true f(x)\")\n",
    "plt.plot(x, y_ridge, label=f\"Ridge fit (λ={lambda_ridge})\", linewidth=2)\n",
    "plt.xlabel(\"x\"); plt.ylabel(\"y\")\n",
    "plt.title(\"Ridge fitting\")\n",
    "plt.legend()\n",
    "plt.tight_layout()\n",
    "plt.show()\n"
   ]
  },
  {
   "cell_type": "code",
   "execution_count": null,
   "id": "ce0afbc3-9ded-4635-b51b-9489e22ebb45",
   "metadata": {},
   "outputs": [],
   "source": [
    "# Error comparison \n",
    "\n",
    "# RMSE, MAE comparison\n",
    "def rmse(a, b): return np.sqrt(np.mean((a - b)**2))\n",
    "def mae(a, b):  return np.mean(np.abs(a - b))\n",
    "\n",
    "err_ols_rmse = rmse(y_hat, y_true)\n",
    "err_ridge_rmse = rmse(y_ridge, y_true)\n",
    "err_ols_mae = mae(y_hat, y_true)\n",
    "err_ridge_mae = mae(y_ridge, y_true)\n",
    "\n",
    "print(f\"OLS   RMSE={err_ols_rmse:.4e}, MAE={err_ols_mae:.4e}\")\n",
    "print(f\"Ridge RMSE={err_ridge_rmse:.4e}, MAE={err_ridge_mae:.4e}\")\n",
    "\n",
    "# percentage error comparison plot\n",
    "eps = 0.05 * np.std(y_true)\n",
    "denom = np.clip(np.abs(y_true), eps, None)\n",
    "err_ols_pct   = 100 * np.abs(y_hat   - y_true) / denom\n",
    "err_ridge_pct = 100 * np.abs(y_ridge - y_true) / denom\n",
    "\n",
    "plt.figure(figsize=(8.5, 3.6))\n",
    "plt.plot(x, err_ols_pct,   label=\"OLS % error\")\n",
    "plt.plot(x, err_ridge_pct, label=f\"Ridge % error (λ={lambda_ridge})\")\n",
    "plt.xlabel(\"x\"); plt.ylabel(\"Percent error [%]\")\n",
    "plt.title(\"Relative error across x (clipped denom)\")\n",
    "plt.legend()\n",
    "plt.tight_layout()\n",
    "plt.show()\n"
   ]
  },
  {
   "cell_type": "code",
   "execution_count": null,
   "id": "cc930521-3ece-4ee1-9fc4-e926ddf6eda2",
   "metadata": {},
   "outputs": [],
   "source": []
  }
 ],
 "metadata": {
  "kernelspec": {
   "display_name": "Python (Bayesian-SINDy)",
   "language": "python",
   "name": "bayesian-sindy"
  },
  "language_info": {
   "codemirror_mode": {
    "name": "ipython",
    "version": 3
   },
   "file_extension": ".py",
   "mimetype": "text/x-python",
   "name": "python",
   "nbconvert_exporter": "python",
   "pygments_lexer": "ipython3",
   "version": "3.11.14"
  }
 },
 "nbformat": 4,
 "nbformat_minor": 5
}
