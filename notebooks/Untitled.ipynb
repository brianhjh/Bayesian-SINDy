{
 "cells": [
  {
   "cell_type": "code",
   "execution_count": null,
   "id": "0d69c479-0cef-415f-9046-00c21fdd30af",
   "metadata": {},
   "outputs": [],
   "source": []
  }
 ],
 "metadata": {
  "kernelspec": {
   "display_name": "",
   "name": ""
  },
  "language_info": {
   "name": ""
  }
 },
 "nbformat": 4,
 "nbformat_minor": 5
}
